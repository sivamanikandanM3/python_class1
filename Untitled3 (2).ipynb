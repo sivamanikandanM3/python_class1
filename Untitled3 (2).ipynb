{
 "cells": [
  {
   "cell_type": "code",
   "execution_count": null,
   "id": "ad5212b4-19db-4dd3-ac64-5648cfdb747f",
   "metadata": {},
   "outputs": [],
   "source": [
    "import requests\n",
    "from bs4 import BeautifulSoup\n",
    "url = \"https://www.imdb.com/chart/top/\"\n",
    "headers = { \"User-Agent\": \"Mozilla/5.0\"}\n",
    "response = requests.get(url, headers=headers)\n",
    "soup = BeautifulSoup(response.text, 'html.parser')\n",
    "table_body = soup.find('tbody', class_='lister-list')\n",
    "rows = table_body.find_all('tr')  \n",
    "for index, row in enumerate(rows[:10], start=1):  \n",
    "    title_column = row.find('td', class_='titleColumn')\n",
    "    rating_column = row.find('td', class_='ratingColumn imdbRating')\n",
    "    title = title_column.a.text.strip()\n",
    "    year = title_column.span.text.strip('()')\n",
    "    rating = rating_column.strong.text.strip()\n",
    "    print(f\"{index}. {title} ({year}) - {rating}\")"
   ]
  }
 ],
 "metadata": {
  "kernelspec": {
   "display_name": "Python 3 (ipykernel)",
   "language": "python",
   "name": "python3"
  },
  "language_info": {
   "codemirror_mode": {
    "name": "ipython",
    "version": 3
   },
   "file_extension": ".py",
   "mimetype": "text/x-python",
   "name": "python",
   "nbconvert_exporter": "python",
   "pygments_lexer": "ipython3",
   "version": "3.13.5"
  }
 },
 "nbformat": 4,
 "nbformat_minor": 5
}
