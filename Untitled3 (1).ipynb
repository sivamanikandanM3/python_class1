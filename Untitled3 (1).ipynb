{
 "cells": [
  {
   "cell_type": "code",
   "execution_count": 50,
   "id": "3ae65318-7192-4f5a-9727-7df36e126f5d",
   "metadata": {},
   "outputs": [
    {
     "ename": "SyntaxError",
     "evalue": "unterminated string literal (detected at line 8) (1017871290.py, line 8)",
     "output_type": "error",
     "traceback": [
      "\u001b[1;36m  Cell \u001b[1;32mIn[50], line 8\u001b[1;36m\u001b[0m\n\u001b[1;33m    movies = tbody.find_all(\"tr)if tbody[0]\u001b[0m\n\u001b[1;37m                            ^\u001b[0m\n\u001b[1;31mSyntaxError\u001b[0m\u001b[1;31m:\u001b[0m unterminated string literal (detected at line 8)\n"
     ]
    }
   ],
   "source": [
    "import requests\n",
    "from bs4 import BeautifulSoup\n",
    "url = \"https://www.imdb.com/chart/top\"\n",
    "headers = {\"User-Agent\": \"Mozila/5.0\"}\n",
    "response = requests.get(url, headers=headers)\n",
    "soup = BeautifulSoup(response.text, \"html.parser\")\n",
    "tbody = soup.find(\"tbody\",class_=\"lister-list\")\n",
    "movies = tbody.find_all(\"tr)if tbody[0]\n",
    "print(soup.select(\"tbody.lister-list tr\")\n",
    "for i, movies in enumerate(movies[:10], start=1):\n",
    "    name = movies.select_one(\" .titleColumn a\").text\n",
    "    year = movies.select_one(\" .titleColumn span\").text.strip(\"()\")\n",
    "    rate = movies.select_one(\" .imdbRating strong\").text\n",
    "    print(f\"{i}. {name} ({year}) - Rating: {rate}\")\n",
    "\n",
    "\n",
    "         \n",
    "\n"
   ]
  },
  {
   "cell_type": "code",
   "execution_count": null,
   "id": "8d7f8b29-36a0-489e-9035-35f61a6a3993",
   "metadata": {},
   "outputs": [],
   "source": []
  },
  {
   "cell_type": "code",
   "execution_count": null,
   "id": "ad3ef0da-b698-41bf-9aec-30d1db711174",
   "metadata": {},
   "outputs": [],
   "source": []
  },
  {
   "cell_type": "code",
   "execution_count": null,
   "id": "02bb9cb2-daba-46ae-87ba-9bb0db459b85",
   "metadata": {},
   "outputs": [],
   "source": []
  }
 ],
 "metadata": {
  "kernelspec": {
   "display_name": "Python 3 (ipykernel)",
   "language": "python",
   "name": "python3"
  },
  "language_info": {
   "codemirror_mode": {
    "name": "ipython",
    "version": 3
   },
   "file_extension": ".py",
   "mimetype": "text/x-python",
   "name": "python",
   "nbconvert_exporter": "python",
   "pygments_lexer": "ipython3",
   "version": "3.13.5"
  }
 },
 "nbformat": 4,
 "nbformat_minor": 5
}
