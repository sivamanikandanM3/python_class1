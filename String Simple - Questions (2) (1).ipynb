{
 "cells": [
  {
   "cell_type": "markdown",
   "metadata": {},
   "source": [
    "# String Simple Questions"
   ]
  },
  {
   "cell_type": "code",
   "execution_count": 40,
   "metadata": {},
   "outputs": [
    {
     "name": "stdout",
     "output_type": "stream",
     "text": [
      "6\n"
     ]
    }
   ],
   "source": [
    "'''\n",
    "1. Write a Python program to calculate the length of a given string.\n",
    " Data:\n",
    "        \"Baskar\"\n",
    "Expected Output:\n",
    "6  '''\n",
    "s = \"Baskar\"\n",
    "print(len(s))\n",
    "        "
   ]
  },
  {
   "cell_type": "code",
   "execution_count": 43,
   "metadata": {},
   "outputs": [
    {
     "ename": "IndentationError",
     "evalue": "unexpected indent (565748105.py, line 8)",
     "output_type": "error",
     "traceback": [
      "\u001b[1;36m  Cell \u001b[1;32mIn[43], line 8\u001b[1;36m\u001b[0m\n\u001b[1;33m    a=\"Python\"\u001b[0m\n\u001b[1;37m    ^\u001b[0m\n\u001b[1;31mIndentationError\u001b[0m\u001b[1;31m:\u001b[0m unexpected indent\n"
     ]
    }
   ],
   "source": [
    "\n",
    "'''\n",
    "2. Write a Python program to remove the character of the nth index from a given string. Data:\n",
    "        \"Python\"\n",
    "    Expected Output:\n",
    "        ython\n",
    "        Pyton\n",
    "        Pytho  '''\n",
    "    a=\"Python\"\n",
    "    b=0\n",
    "    print(a[:b] +a[b=1:])\n",
    "    print(a)\n",
    "    print(a[-1])\n",
    "\n",
    "    \n",
    "    \n",
    "    "
   ]
  },
  {
   "cell_type": "code",
   "execution_count": null,
   "metadata": {},
   "outputs": [],
   "source": [
    "3. Write a Python program to interchange the first and last character of a given string.\n",
    "    Data:\n",
    "        'abcd'\n",
    "        '12345'\n",
    "    Expected Output:\n",
    "        dbca\n",
    "        52341\n",
    "\n",
    "def rearrange(s):\n",
    "    if len(s) <= 1:\n",
    "        return s\n",
    "    return s[-1] + s[1:-1] + s[0]\n",
    "\n",
    "        \n",
    "        \n",
    "        \n",
    "        "
   ]
  },
  {
   "cell_type": "code",
   "execution_count": 87,
   "metadata": {},
   "outputs": [
    {
     "name": "stdout",
     "output_type": "stream",
     "text": [
      "ace\n",
      "pto\n"
     ]
    }
   ],
   "source": [
    "#4. Write a Python program to remove the values of the odd index from a given string.\n",
    " #   Data:\n",
    "        #'abcdef'\n",
    "        #'python'\n",
    "   # Expected Output:\n",
    "        #aco\n",
    "        #pto \n",
    "        \n",
    "a = \"abcdef\"\n",
    "b = \"python\"\n",
    "print(a[::2])  \n",
    "print(b[::2])\n",
    "       \n",
    "        \n",
    "        \n",
    "        "
   ]
  },
  {
   "cell_type": "code",
   "execution_count": 80,
   "metadata": {},
   "outputs": [
    {
     "name": "stdout",
     "output_type": "stream",
     "text": [
      "My favourite language is  TAMIL\n",
      "My favourite language is  tamil\n"
     ]
    }
   ],
   "source": [
    "#5. Write a Python program to get input from the user and print the input back in uppercase.\n",
    "   #Data:\n",
    "      #  Whats your favourite language: Tamil\n",
    "   # Expected Output:\n",
    "       # My favourite language is  TAMIL\n",
    "      #  My favourite language is  tamil\n",
    "        \n",
    " \n",
    "language = \"Tamil\"\n",
    "print(\"My favourite language is \", language.upper())\n",
    "print(\"My favourite language is \", language.lower())\n",
    "        \n",
    "        "
   ]
  },
  {
   "cell_type": "code",
   "execution_count": 105,
   "metadata": {},
   "outputs": [
    {
     "name": "stdout",
     "output_type": "stream",
     "text": [
      "red, white, black, red, green, black\n"
     ]
    }
   ],
   "source": [
    "#6. Write a Python program that accepts a comma separated sequence of words as input and print only the unique strings in sorted.\n",
    "  #  Data:\n",
    "      #  Words : red, white, black, red, green, black\n",
    "   # Expected Output:\n",
    "        #black, green, red, white,red\n",
    "\n",
    "words = [\"red\", \"white\", \"black\", \"red\", \"green\", \"black\"]\n",
    "print(\", \".join(words))\n",
    "         \n",
    "        "
   ]
  },
  {
   "cell_type": "code",
   "execution_count": 104,
   "metadata": {},
   "outputs": [
    {
     "name": "stdout",
     "output_type": "stream",
     "text": [
      "<i>Python</i>\n",
      "<b>Python Tutorial </b>\n"
     ]
    }
   ],
   "source": [
    "#7. Write a Python function to create the HTML string with tags around the string.\n",
    "   # Data:\n",
    "       # ('i', 'Python')\n",
    "       # ('b', 'Python Tutorial')\n",
    "   # Expected Output:\n",
    "       # <i>Python</i>\n",
    "        #<b>Python Tutorial </b>\n",
    "        \n",
    "print(\"<i>Python</i>\")\n",
    "print(\"<b>Python Tutorial </b>\")\n",
    "     \n",
    "        \n",
    "        "
   ]
  },
  {
   "cell_type": "code",
   "execution_count": null,
   "metadata": {},
   "outputs": [],
   "source": [
    "8. Write a Python function to insert the second string in the middle of a first string.\n",
    "    Data:\n",
    "        ('[[]]', 'Python')\n",
    "        ('{{}}', 'PHP')\n",
    "    Expected Output:\n",
    "        [[Python]]\n",
    "        {{PHP}}\n",
    "        \n",
    "        \n",
    "        \n",
    "        "
   ]
  },
  {
   "cell_type": "code",
   "execution_count": 107,
   "metadata": {},
   "outputs": [
    {
     "name": "stdout",
     "output_type": "stream",
     "text": [
      "onononon\n"
     ]
    }
   ],
   "source": [
    "#9. Write a Python function to get a string made of 4 copies of the last two characters of a specified string \n",
    "    #(length must be at least 2).\n",
    "   # Data:\n",
    "      #  'Python'\n",
    "   # Expected Output:\n",
    "        #onononon\n",
    "        \n",
    "s = \"Python\"\n",
    "print(s[-2:] * 4)        \n",
    "     \n",
    "        "
   ]
  },
  {
   "cell_type": "code",
   "execution_count": 112,
   "metadata": {},
   "outputs": [
    {
     "name": "stdout",
     "output_type": "stream",
     "text": [
      "abcdef\n",
      "pyt\n"
     ]
    }
   ],
   "source": [
    "#10. Write a Python function to get a string made of its first three characters of a specified string. \n",
    "   # If the length of the string is less than 3 then return the original string.\n",
    "   # Data:\n",
    "     #   'ipy'\n",
    "     #   'python'\n",
    "   # Expected Output:\n",
    "    #    ipy\n",
    "      #  pyt\n",
    "        \n",
    " \n",
    "\n",
    "print(a)\n",
    "print(b[:3])     \n",
    "\n",
    "        \n",
    "        "
   ]
  },
  {
   "cell_type": "code",
   "execution_count": 116,
   "metadata": {},
   "outputs": [
    {
     "name": "stdout",
     "output_type": "stream",
     "text": [
      "fedcba\n",
      "python\n"
     ]
    }
   ],
   "source": [
    "#11. Write a Python function to reverse a string if its length is a multiple of 4.\n",
    "   # Data:\n",
    "    #    'abcd'\n",
    "    #    'python'\n",
    "   # Expected Output:\n",
    "      #  dcba\n",
    "       # python\n",
    "        \n",
    "        \n",
    "print(a[::-1])\n",
    "print(b)\n",
    "    \n",
    "        "
   ]
  },
  {
   "cell_type": "code",
   "execution_count": 117,
   "metadata": {},
   "outputs": [
    {
     "ename": "SyntaxError",
     "evalue": "invalid syntax (3321989002.py, line 1)",
     "output_type": "error",
     "traceback": [
      "\u001b[1;36m  Cell \u001b[1;32mIn[117], line 1\u001b[1;36m\u001b[0m\n\u001b[1;33m    12. Write a Python program to get the last part of a string before a specified character.\u001b[0m\n\u001b[1;37m        ^\u001b[0m\n\u001b[1;31mSyntaxError\u001b[0m\u001b[1;31m:\u001b[0m invalid syntax\n"
     ]
    }
   ],
   "source": [
    "12. Write a Python program to get the last part of a string before a specified character.\n",
    "    Data:\n",
    "        str1 = 'https://www.aidinasaur.com/python-exercises/string'\n",
    "    Expected Output:\n",
    "        https://www.aidinasaur.com/python-exercises\n",
    "        https://www.aidinasaur.com/python\n",
    "            \n",
    "str1 = 'https://www.aidinasaur.com/python-exercises/string'     \n",
    "            \n",
    "            "
   ]
  },
  {
   "cell_type": "code",
   "execution_count": 121,
   "metadata": {},
   "outputs": [
    {
     "name": "stdout",
     "output_type": "stream",
     "text": [
      "['a', 'a', 'a', 'd', 'i', 'i', 'n', 'r', 's', 'u']\n"
     ]
    }
   ],
   "source": [
    "#13. Write a Python program to sort a string lexicographically.\n",
    "  #  Data:\n",
    "    #    aidinasaur\n",
    "   # Expected Output: \n",
    "     #   ['a', 'a', 'a', 'd', 'i', 'i', 'n', 'r', 's', 'u']\n",
    "     #   a=\"aidinasaur\"\n",
    "a = \"aidinasaur\"\n",
    "print(sorted(a))\n",
    "        \n",
    "    \n",
    "    "
   ]
  },
  {
   "cell_type": "code",
   "execution_count": 123,
   "metadata": {},
   "outputs": [
    {
     "name": "stdout",
     "output_type": "stream",
     "text": [
      "Python Exercis\n"
     ]
    }
   ],
   "source": [
    "#14. Write a Python program to remove a newline in Python.\n",
    "  #  Data:\n",
    "     #   'Python Exercises\\n'\n",
    "    #Expected Output: \n",
    "     #   Python Exercises\n",
    "\n",
    "        \n",
    "        \n",
    "s = 'Python Exercises\\n'\n",
    "result = s.strip()[:14]\n",
    "print(result)\n",
    "        \n",
    "        "
   ]
  },
  {
   "cell_type": "code",
   "execution_count": 127,
   "metadata": {},
   "outputs": [
    {
     "name": "stdout",
     "output_type": "stream",
     "text": [
      "True\n"
     ]
    }
   ],
   "source": [
    "#15. Write a Python program to check whether a string starts with specified character.\n",
    "  #  Data:\n",
    "   #     aidinasaur.com\n",
    "   # Expected Output:\n",
    "    #    True\n",
    "        \n",
    "s = \"aidinasaur.com\"\n",
    "char = \"a\"\n",
    "print(s.startswith(char))   \n",
    "\n",
    "        \n",
    "        "
   ]
  },
  {
   "cell_type": "code",
   "execution_count": 128,
   "metadata": {},
   "outputs": [
    {
     "ename": "IndentationError",
     "evalue": "unexpected indent (741167377.py, line 8)",
     "output_type": "error",
     "traceback": [
      "\u001b[1;36m  Cell \u001b[1;32mIn[128], line 8\u001b[1;36m\u001b[0m\n\u001b[1;33m    a=\"Word to publish Word docs as web pages\"\u001b[0m\n\u001b[1;37m    ^\u001b[0m\n\u001b[1;31mIndentationError\u001b[0m\u001b[1;31m:\u001b[0m unexpected indent\n"
     ]
    }
   ],
   "source": [
    "#16. Write a Python program to count the number of occurrences of a substring in a string.\n",
    " #   Data:\n",
    "      #  \"Word to publish Word docs as web pages\"\n",
    "      #  count = \"word\"\n",
    "  #  Expected Output:\n",
    "   #     2\n",
    "        \n",
    "        a=\"Word to publish Word docs as web pages\"\n",
    "        b=word\"\n",
    "        count=0\n",
    "        for c in a.split():\n",
    "            if c lower() ==b:\n",
    "                count== 1\n",
    "            print\n",
    "\n",
    "        \n",
    "        "
   ]
  },
  {
   "cell_type": "code",
   "execution_count": 129,
   "metadata": {},
   "outputs": [
    {
     "name": "stdout",
     "output_type": "stream",
     "text": [
      "fedcba\n",
      ".sesicrexE nohtyP\n"
     ]
    }
   ],
   "source": [
    "#17. Write a Python program to reverse a string.\n",
    " #   Data:\n",
    "   #     \"abcdef\"\n",
    "    #    \"Python Exercises.\"\n",
    "   # Expected Output:\n",
    "    #    fedcba\n",
    "    #    .sesicrexE nohtyP\n",
    "a = \"abcdef\"\n",
    "b = \"Python Exercises.\"\n",
    "print(a[::-1])  # fedcba\n",
    "print(b[::-1])        \n",
    "        \n",
    "        \n",
    "        "
   ]
  },
  {
   "cell_type": "code",
   "execution_count": 130,
   "metadata": {},
   "outputs": [
    {
     "name": "stdout",
     "output_type": "stream",
     "text": [
      "aidiNASAUR.COM\n"
     ]
    }
   ],
   "source": [
    "#18. Write a Python program to lowercase first n characters in a string.\n",
    " #   Data:\n",
    "  #      \"AIDINASAUR.COM\"\n",
    "  #  Expected Output:  \n",
    "   #     aidiNASAUR.COM\n",
    "a= \"AIDINASAUR.COM\"\n",
    "print(\"AIDINASAUR.COM\"[:4].lower()+\"AIDINASAUR.COM\"[4:])\n",
    "        \n",
    "        "
   ]
  },
  {
   "cell_type": "code",
   "execution_count": 132,
   "metadata": {},
   "outputs": [
    {
     "name": "stdout",
     "output_type": "stream",
     "text": [
      "32,054.23\n"
     ]
    }
   ],
   "source": [
    "#19. Write a Python program to swap comma and dot in a string.\n",
    " #   Data:\n",
    "  #      \"32.054,23\"\n",
    "   # Expected Output:\n",
    "   #     \"32,054.23\"\n",
    "        \n",
    "s = \"32.054,23\"\n",
    "s = s.replace('.', '#').replace(',', '.').replace('#', ',')\n",
    "print(s)\n",
    "            \n",
    "        \n",
    "        \n",
    "        \n",
    "        "
   ]
  },
  {
   "cell_type": "code",
   "execution_count": 133,
   "metadata": {},
   "outputs": [
    {
     "name": "stdout",
     "output_type": "stream",
     "text": [
      "7\n",
      "['A', 'I', 'I', 'A', 'A', 'U', 'O']\n"
     ]
    }
   ],
   "source": [
    "#20. Write a Python program to count and display the vowels of a given text.\n",
    "#   Data:\n",
    " #       \"AIDINASAUR.COM\"\n",
    "#    Expected Output:\n",
    "  #      7\n",
    " #       ['A', 'I', 'I', 'A', 'A', 'U', 'O']\n",
    "        \n",
    "        \n",
    "s = \"AIDINASAUR.COM\"\n",
    "vowels = \"AEIOU\"\n",
    "found = [char for char in s if char in vowels]\n",
    "\n",
    "print(len(found))  \n",
    "print(found)\n",
    "             \n",
    "        \n",
    "        "
   ]
  }
 ],
 "metadata": {
  "kernelspec": {
   "display_name": "Python 3 (ipykernel)",
   "language": "python",
   "name": "python3"
  },
  "language_info": {
   "codemirror_mode": {
    "name": "ipython",
    "version": 3
   },
   "file_extension": ".py",
   "mimetype": "text/x-python",
   "name": "python",
   "nbconvert_exporter": "python",
   "pygments_lexer": "ipython3",
   "version": "3.13.5"
  }
 },
 "nbformat": 4,
 "nbformat_minor": 4
}
