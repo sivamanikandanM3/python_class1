{
 "cells": [
  {
   "cell_type": "markdown",
   "metadata": {},
   "source": [
    "# For Loop (Simple) - Questions"
   ]
  },
  {
   "cell_type": "code",
   "execution_count": 14,
   "metadata": {},
   "outputs": [
    {
     "name": "stdout",
     "output_type": "stream",
     "text": [
      "India\n",
      "Canada\n",
      "Sweden\n"
     ]
    }
   ],
   "source": [
    "''' 1. Write a Python program to print expected output from the data given below.   \n",
    "    Data:\n",
    "         country = [\"India\", \"Canada\", \"Sweden\"]    \n",
    "    Expected Output:\n",
    "    India\n",
    "    Canada\n",
    "    Sweden '''  \n",
    "country = [\"India\", \"Canada\", \"Sweden\"] \n",
    "for a in country:\n",
    "       print(a)"
   ]
  },
  {
   "cell_type": "code",
   "execution_count": 15,
   "metadata": {},
   "outputs": [
    {
     "name": "stdout",
     "output_type": "stream",
     "text": [
      "b\n",
      "a\n",
      "n\n",
      "a\n",
      "n\n",
      "a\n"
     ]
    }
   ],
   "source": [
    "''' 2. Write a Python program to print expected output from the data given below. \n",
    "    Data:\n",
    "         string = \"banana\"\n",
    "    Expected Output: \n",
    "    b\n",
    "    a\n",
    "    n\n",
    "    a\n",
    "    n\n",
    "    a '''\n",
    "string = \"banana\"\n",
    "for char in string:\n",
    "    print(char)\n"
   ]
  },
  {
   "cell_type": "code",
   "execution_count": 16,
   "metadata": {},
   "outputs": [
    {
     "name": "stdout",
     "output_type": "stream",
     "text": [
      "India\n",
      "Canada\n"
     ]
    }
   ],
   "source": [
    "''' 3. Write a Python program to print expected output using break statement from the data given below.    \n",
    "    Data:\n",
    "        country = [\"India\", \"Canada\", \"Sweden\"]      \n",
    "    Expected Output: \n",
    "    India\n",
    "    Canada '''\n",
    "country = [\"India\", \"Canada\", \"Sweden\"]  \n",
    "for c in country:\n",
    "    if c==\"Sweden\":\n",
    "        break\n",
    "    print(c)\n"
   ]
  },
  {
   "cell_type": "code",
   "execution_count": null,
   "metadata": {},
   "outputs": [],
   "source": [
    "''' 4. Write a Python program to print expected output using continue statement from the data given below.\n",
    "    Data:\n",
    "        country = [\"India\", \"Canada\", \"Sweden\"]\n",
    "    Expected Output: \n",
    "    India\n",
    "    Sweden '''\n",
    "    "
   ]
  },
  {
   "cell_type": "code",
   "execution_count": null,
   "metadata": {},
   "outputs": [],
   "source": [
    "#5. Write a Python program to having an empty for loop like this, would raise an error without the pass statement.\n"
   ]
  },
  {
   "cell_type": "code",
   "execution_count": 17,
   "metadata": {},
   "outputs": [
    {
     "name": "stdout",
     "output_type": "stream",
     "text": [
      "0\n",
      "1\n",
      "2\n",
      "3\n",
      "4\n",
      "5\n"
     ]
    }
   ],
   "source": [
    "''' 6. Write a Python program to print expected output using range in for loop.\n",
    "    Expected Output:\n",
    "    0\n",
    "    1\n",
    "    2\n",
    "    3\n",
    "    4\n",
    "    5 '''\n",
    "for i  in range(6):\n",
    "    print(i)\n"
   ]
  },
  {
   "cell_type": "code",
   "execution_count": 18,
   "metadata": {},
   "outputs": [
    {
     "name": "stdout",
     "output_type": "stream",
     "text": [
      "2\n",
      "3\n",
      "4\n",
      "5\n"
     ]
    }
   ],
   "source": [
    "''' 7. Write a Python program to print expected output by passing range parameters as (2, 6).\n",
    "    Expected Output:\n",
    "    2\n",
    "    3\n",
    "    4\n",
    "    5 '''\n",
    "for i in range(2,6):\n",
    "    print(i)\n"
   ]
  },
  {
   "cell_type": "code",
   "execution_count": 19,
   "metadata": {},
   "outputs": [
    {
     "name": "stdout",
     "output_type": "stream",
     "text": [
      "2\n",
      "5\n",
      "8\n",
      "11\n",
      "14\n",
      "17\n",
      "20\n",
      "23\n",
      "26\n",
      "29\n"
     ]
    }
   ],
   "source": [
    "'''8. Write a Python program to print expected output, range between 2 to 30 and increment the sequence by 3.\n",
    "    Expected Output:\n",
    "    2\n",
    "    5\n",
    "    8\n",
    "    11\n",
    "    14\n",
    "    17\n",
    "    20\n",
    "    23\n",
    "    26\n",
    "    29 '''\n",
    "for i in range(2,30,3):\n",
    "    print(i)\n"
   ]
  },
  {
   "cell_type": "code",
   "execution_count": null,
   "metadata": {},
   "outputs": [],
   "source": [
    "''' 9. Write a Python program to print all numbers from 0 to 5, and print a message when the loop has ended.\n",
    "    Expected Output:\n",
    "    0\n",
    "    1\n",
    "    2\n",
    "    3\n",
    "    4\n",
    "    5\n",
    "    Finally finished! '''\n",
    "\n"
   ]
  },
  {
   "cell_type": "code",
   "execution_count": 36,
   "metadata": {},
   "outputs": [
    {
     "ename": "NameError",
     "evalue": "name 'adj' is not defined",
     "output_type": "error",
     "traceback": [
      "\u001b[1;31m---------------------------------------------------------------------------\u001b[0m",
      "\u001b[1;31mNameError\u001b[0m                                 Traceback (most recent call last)",
      "Cell \u001b[1;32mIn[36], line 15\u001b[0m\n\u001b[0;32m      1\u001b[0m \u001b[38;5;124;03m''' 10. Write a Python program to print each adjective for every fruits using nested for loop from the data given below.\u001b[39;00m\n\u001b[0;32m      2\u001b[0m \u001b[38;5;124;03m    Data:\u001b[39;00m\n\u001b[0;32m      3\u001b[0m \u001b[38;5;124;03m        adjective = [\"red\", \"big\", \"tasty\"]\u001b[39;00m\n\u001b[1;32m   (...)\u001b[0m\n\u001b[0;32m     13\u001b[0m \u001b[38;5;124;03m        tasty banana\u001b[39;00m\n\u001b[0;32m     14\u001b[0m \u001b[38;5;124;03m        tasty cherry '''\u001b[39;00m\n\u001b[1;32m---> 15\u001b[0m \u001b[38;5;28;01mfor\u001b[39;00m i \u001b[38;5;129;01min\u001b[39;00m adj:\n\u001b[0;32m     16\u001b[0m     \u001b[38;5;28;01mfor\u001b[39;00m fruit \u001b[38;5;129;01min\u001b[39;00m fruits:\n\u001b[0;32m     17\u001b[0m         \u001b[38;5;28mprint\u001b[39m(\u001b[38;5;124mf\u001b[39m\u001b[38;5;124m\"\u001b[39m\u001b[38;5;132;01m{\u001b[39;00mi\u001b[38;5;132;01m}\u001b[39;00m\u001b[38;5;124m \u001b[39m\u001b[38;5;132;01m{\u001b[39;00mfruits\u001b[38;5;132;01m}\u001b[39;00m\u001b[38;5;124m\"\u001b[39m)\n",
      "\u001b[1;31mNameError\u001b[0m: name 'adj' is not defined"
     ]
    }
   ],
   "source": [
    "''' 10. Write a Python program to print each adjective for every fruits using nested for loop from the data given below.\n",
    "    Data:\n",
    "        adjective = [\"red\", \"big\", \"tasty\"]\n",
    "        fruits = [\"apple\", \"banana\", \"cherry\"]\n",
    "    Expected Output:\n",
    "        red apple\n",
    "        red banana\n",
    "        red cherry\n",
    "        big apple\n",
    "        big banana\n",
    "        big cherry\n",
    "        tasty apple\n",
    "        tasty banana\n",
    "        tasty cherry '''\n",
    "for i in adj:\n",
    "    for fruit in fruits:\n",
    "        print(f\"{i} {fruits}\")\n"
   ]
  },
  {
   "cell_type": "code",
   "execution_count": 32,
   "metadata": {},
   "outputs": [
    {
     "ename": "TypeError",
     "evalue": "'int' object is not iterable",
     "output_type": "error",
     "traceback": [
      "\u001b[1;31m---------------------------------------------------------------------------\u001b[0m",
      "\u001b[1;31mTypeError\u001b[0m                                 Traceback (most recent call last)",
      "Cell \u001b[1;32mIn[32], line 6\u001b[0m\n\u001b[0;32m      1\u001b[0m \u001b[38;5;124;03m''' 11. Write a Python program to convert list of tuples into dictionary using setdefault() method.\u001b[39;00m\n\u001b[0;32m      2\u001b[0m \u001b[38;5;124;03m    Data:\u001b[39;00m\n\u001b[0;32m      3\u001b[0m \u001b[38;5;124;03m        l = [(\"x\", 1), (\"x\", 2), (\"x\", 3), (\"y\", 1), (\"y\", 2), (\"z\", 1)]\u001b[39;00m\n\u001b[0;32m      4\u001b[0m \u001b[38;5;124;03m    Expected Output:\u001b[39;00m\n\u001b[0;32m      5\u001b[0m \u001b[38;5;124;03m        {'x': [1, 2, 3], 'y': [1, 2], 'z': [1]} '''\u001b[39;00m\n\u001b[1;32m----> 6\u001b[0m \u001b[38;5;28;01mfor\u001b[39;00m key\u001b[38;5;241m.\u001b[39mvalue \u001b[38;5;129;01min\u001b[39;00m \u001b[38;5;241m1\u001b[39m:\n\u001b[0;32m      7\u001b[0m     d\u001b[38;5;241m.\u001b[39msetdefault(key, [])\u001b[38;5;241m.\u001b[39mappend(value)\n\u001b[0;32m      8\u001b[0m     \u001b[38;5;28mprint\u001b[39m(d)\n",
      "\u001b[1;31mTypeError\u001b[0m: 'int' object is not iterable"
     ]
    }
   ],
   "source": [
    "''' 11. Write a Python program to convert list of tuples into dictionary using setdefault() method.\n",
    "    Data:\n",
    "        l = [(\"x\", 1), (\"x\", 2), (\"x\", 3), (\"y\", 1), (\"y\", 2), (\"z\", 1)]\n",
    "    Expected Output:\n",
    "        {'x': [1, 2, 3], 'y': [1, 2], 'z': [1]} '''\n",
    "for key.value in 1:\n",
    "    d.setdefault(key, []).append(value)\n",
    "    print(d)"
   ]
  },
  {
   "cell_type": "code",
   "execution_count": null,
   "metadata": {},
   "outputs": [],
   "source": [
    "''' 12. Write a Python program to print the count of no. of elements in a list until an element in a list is a tuple using isinstance() method.\n",
    "    Data:\n",
    "        x = [10,20,30,(10,20),40]\n",
    "    Expected Output: 3 '''\n",
    "\n"
   ]
  },
  {
   "cell_type": "code",
   "execution_count": null,
   "metadata": {},
   "outputs": [],
   "source": [
    "''' 13. Write a Python program to access the index of elements in a list. \n",
    "    Data:\n",
    "        x = [5, 15, 35, 8, 98]\n",
    "    Expected Output:\n",
    "        0 5\n",
    "        1 15\n",
    "        2 35\n",
    "        3 8\n",
    "        4 98 '''\n",
    "        "
   ]
  },
  {
   "cell_type": "code",
   "execution_count": null,
   "metadata": {},
   "outputs": [],
   "source": [
    "''' 14. Write a Python program to create multiple lists.\n",
    "    Expected output:\n",
    "        {'1': [], '2': [], '3': [], '4': [], '5': [], '6': [], '7': [], '8': [], '9': [], '10': []} '''\n",
    "\n"
   ]
  },
  {
   "cell_type": "code",
   "execution_count": 23,
   "metadata": {},
   "outputs": [
    {
     "ename": "NameError",
     "evalue": "name 'n' is not defined",
     "output_type": "error",
     "traceback": [
      "\u001b[1;31m---------------------------------------------------------------------------\u001b[0m",
      "\u001b[1;31mNameError\u001b[0m                                 Traceback (most recent call last)",
      "Cell \u001b[1;32mIn[23], line 7\u001b[0m\n\u001b[0;32m      1\u001b[0m \u001b[38;5;124;03m''' 15. Write a Python program to create a list of empty dictionaries.\u001b[39;00m\n\u001b[0;32m      2\u001b[0m \u001b[38;5;124;03m    Data:\u001b[39;00m\n\u001b[0;32m      3\u001b[0m \u001b[38;5;124;03m        n = 5\u001b[39;00m\n\u001b[0;32m      4\u001b[0m \u001b[38;5;124;03m    Expected Output:\u001b[39;00m\n\u001b[0;32m      5\u001b[0m \u001b[38;5;124;03m        [{}, {}, {}, {}, {}] '''\u001b[39;00m\n\u001b[1;32m----> 7\u001b[0m n\u001b[38;5;241m=\u001b[39m[{} \u001b[38;5;28;01mfor\u001b[39;00m _ \u001b[38;5;129;01min\u001b[39;00m \u001b[38;5;28mrange\u001b[39m(n)]\n\u001b[0;32m      8\u001b[0m \u001b[38;5;28mprint\u001b[39m(n)\n",
      "\u001b[1;31mNameError\u001b[0m: name 'n' is not defined"
     ]
    }
   ],
   "source": [
    "''' 15. Write a Python program to create a list of empty dictionaries.\n",
    "    Data:\n",
    "        n = 5\n",
    "    Expected Output:\n",
    "        [{}, {}, {}, {}, {}] '''\n",
    "        \n",
    "n=[{} for _ in range(n)]\n",
    "print(n)"
   ]
  },
  {
   "cell_type": "code",
   "execution_count": 28,
   "metadata": {},
   "outputs": [
    {
     "ename": "IndentationError",
     "evalue": "unexpected indent (3519855822.py, line 9)",
     "output_type": "error",
     "traceback": [
      "\u001b[1;36m  Cell \u001b[1;32mIn[28], line 9\u001b[1;36m\u001b[0m\n\u001b[1;33m    for i,n in zip(x, name):\u001b[0m\n\u001b[1;37m    ^\u001b[0m\n\u001b[1;31mIndentationError\u001b[0m\u001b[1;31m:\u001b[0m unexpected indent\n"
     ]
    }
   ],
   "source": [
    "''' 16. Write a Python program to iterate over two lists simultaneously.\n",
    "    Data:\n",
    "        x = [1, 2, 3]\n",
    "        name = ['boss', 'sai', 'bala']\n",
    "    Expected Output:\n",
    "        1 boss\n",
    "        2 sai\n",
    "        3 bala '''\n",
    "for i,n in zip(x, name):\n",
    "    print(i, n)\n",
    "        \n"
   ]
  },
  {
   "cell_type": "code",
   "execution_count": 30,
   "metadata": {},
   "outputs": [
    {
     "ename": "SyntaxError",
     "evalue": "invalid syntax (2984290030.py, line 8)",
     "output_type": "error",
     "traceback": [
      "\u001b[1;36m  Cell \u001b[1;32mIn[30], line 8\u001b[1;36m\u001b[0m\n\u001b[1;33m    for i range(len(name)):\u001b[0m\n\u001b[1;37m          ^\u001b[0m\n\u001b[1;31mSyntaxError\u001b[0m\u001b[1;31m:\u001b[0m invalid syntax\n"
     ]
    }
   ],
   "source": [
    "''' 17. Write a Python program print all elements of the list using for loop and range().\n",
    "    Data:\n",
    "        name = ['boss', 'sai', 'bala']\n",
    "    Expected Output:\n",
    "        boss\n",
    "        sai\n",
    "        bala '''\n",
    "for i range(len(name)):\n",
    "      print(name[i])\n",
    "\n",
    "\n",
    "   \n",
    "\n"
   ]
  },
  {
   "cell_type": "code",
   "execution_count": 20,
   "metadata": {},
   "outputs": [
    {
     "name": "stdout",
     "output_type": "stream",
     "text": [
      "01234"
     ]
    }
   ],
   "source": [
    "# 18. Write a Python program to print without newline or space.\n",
    "\n",
    "for i in range(5):\n",
    "    print(i,end=\"\")"
   ]
  },
  {
   "cell_type": "code",
   "execution_count": null,
   "metadata": {},
   "outputs": [],
   "source": [
    "''' 19. Write a Python program to print expected output using enumerate() from the data given below.\n",
    "    Data:\n",
    "        x = [\"suresh\", \"boss\", \"siva\", \"bala\", \"sai\", \"balu\", \"karthi\"] \n",
    "    Expected Output:\n",
    "        President 1: suresh\n",
    "        President 2: boss\n",
    "        President 3: siva\n",
    "        President 4: bala\n",
    "        President 5: sai\n",
    "        President 6: balu\n",
    "        President 7: karthi '''\n",
    "   "
   ]
  },
  {
   "cell_type": "code",
   "execution_count": null,
   "metadata": {},
   "outputs": [],
   "source": [
    "''' 20. Write a Python program to print expected output using enumerate() from the data given below.\n",
    "    Data:\n",
    "        name = [\"suresh\", \"boss\", \"siva\", \"bala\"]\n",
    "        ratios = [0.2, 0.3, 0.1, 0.4]\n",
    "    Expected Output:\n",
    "        20.0% suresh\n",
    "        30.0% boss\n",
    "        50.0% siva\n",
    "        40.0% bala '''\n",
    "for \n",
    "       "
   ]
  }
 ],
 "metadata": {
  "kernelspec": {
   "display_name": "Python 3 (ipykernel)",
   "language": "python",
   "name": "python3"
  },
  "language_info": {
   "codemirror_mode": {
    "name": "ipython",
    "version": 3
   },
   "file_extension": ".py",
   "mimetype": "text/x-python",
   "name": "python",
   "nbconvert_exporter": "python",
   "pygments_lexer": "ipython3",
   "version": "3.13.5"
  }
 },
 "nbformat": 4,
 "nbformat_minor": 4
}
