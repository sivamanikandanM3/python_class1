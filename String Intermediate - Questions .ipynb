{
 "cells": [
  {
   "cell_type": "markdown",
   "metadata": {},
   "source": [
    "# String Intermediate Questions "
   ]
  },
  {
   "cell_type": "code",
   "execution_count": 2,
   "metadata": {},
   "outputs": [
    {
     "ename": "SyntaxError",
     "evalue": "invalid syntax (3180714565.py, line 1)",
     "output_type": "error",
     "traceback": [
      "\u001b[1;36m  Cell \u001b[1;32mIn[2], line 1\u001b[1;36m\u001b[0m\n\u001b[1;33m    1. Write a Python program to count the number of each character in a string.\u001b[0m\n\u001b[1;37m       ^\u001b[0m\n\u001b[1;31mSyntaxError\u001b[0m\u001b[1;31m:\u001b[0m invalid syntax\n"
     ]
    }
   ],
   "source": [
    "1. Write a Python program to count the number of each character in a string.\n",
    "    Data:\n",
    "        \"aidinasaur.com\"\n",
    "        Expected Output:\n",
    "        {'a': 3, 'i': 2, 'd': 1, 'n': 1, 's': 1, 'u': 1, 'r': 1, '.': 1, 'c': 1, 'o': 1, 'm': 1}\n",
    "        \n",
    "       a= \"aidinasaur.com\"\n",
    "     print({ch: a.count(ch) for ch in set(a)})\n",
    "\n",
    "\n",
    "    \n",
    "        \n",
    "        \n",
    "        \n",
    "        "
   ]
  },
  {
   "cell_type": "code",
   "execution_count": 18,
   "metadata": {},
   "outputs": [
    {
     "ename": "SyntaxError",
     "evalue": "invalid syntax (3936719180.py, line 1)",
     "output_type": "error",
     "traceback": [
      "\u001b[1;36m  Cell \u001b[1;32mIn[18], line 1\u001b[1;36m\u001b[0m\n\u001b[1;33m    2. Write a Python program to get a string made of the first 2 and the last 2 chars from a given a string.\u001b[0m\n\u001b[1;37m       ^\u001b[0m\n\u001b[1;31mSyntaxError\u001b[0m\u001b[1;31m:\u001b[0m invalid syntax\n"
     ]
    }
   ],
   "source": [
    "2. Write a Python program to get a string made of the first 2 and the last 2 chars from a given a string. \n",
    "   If the string length is less than 2, return instead of the empty string.\n",
    "    Data:\n",
    "        'aidinasaur'\n",
    "        'ai'\n",
    "        'a'\n",
    " Expected Output:\n",
    "        aiur\n",
    "        aiai\n",
    "\n",
    "a =input(\"Enter string: \")\n",
    "if len(a)>= 2:\n",
    "    print(a[:2] + a[-2:])\n",
    "else:\n",
    "    print(a)\n",
    "    \n",
    "        \n",
    "        \n",
    "        \n",
    "        "
   ]
  },
  {
   "cell_type": "code",
   "execution_count": 24,
   "metadata": {},
   "outputs": [
    {
     "ename": "SyntaxError",
     "evalue": "invalid syntax (2314569678.py, line 1)",
     "output_type": "error",
     "traceback": [
      "\u001b[1;36m  Cell \u001b[1;32mIn[24], line 1\u001b[1;36m\u001b[0m\n\u001b[1;33m    3. Write a Python program to get a string from a given string where all occurrences of its first char have been changed to '$',\u001b[0m\n\u001b[1;37m       ^\u001b[0m\n\u001b[1;31mSyntaxError\u001b[0m\u001b[1;31m:\u001b[0m invalid syntax\n"
     ]
    }
   ],
   "source": [
    "3. Write a Python program to get a string from a given string where all occurrences of its first char have been changed to '$',\n",
    "   except the first char itself. \n",
    "    Data:\n",
    "        'restart'\n",
    "    Expected Output:\n",
    "        resta$t\n",
    "        \n",
    "a=\"restart\"\n",
    "print(a[0] = a[1:].replace(a[0], \"$\"))\n",
    "\n",
    "        \n"
   ]
  },
  {
   "cell_type": "code",
   "execution_count": 22,
   "metadata": {},
   "outputs": [
    {
     "ename": "SyntaxError",
     "evalue": "invalid syntax (2986119942.py, line 1)",
     "output_type": "error",
     "traceback": [
      "\u001b[1;36m  Cell \u001b[1;32mIn[22], line 1\u001b[1;36m\u001b[0m\n\u001b[1;33m    4. Write a Python program to get a single string from two given strings, separated by a space and swap\u001b[0m\n\u001b[1;37m       ^\u001b[0m\n\u001b[1;31mSyntaxError\u001b[0m\u001b[1;31m:\u001b[0m invalid syntax\n"
     ]
    }
   ],
   "source": [
    "4. Write a Python program to get a single string from two given strings, separated by a space and swap \n",
    "   the first two characters of each string. \n",
    "    Data:\n",
    "        'abc', 'xyz'\n",
    "    Expected Output:\n",
    "        xyc abz\n",
    "        \n",
    "        a= 'abc'\n",
    "        b= 'xyz'\n",
    "        print(b[:2] + a[2:], a [:2] + b[2:])\n",
    "        \n"
   ]
  },
  {
   "cell_type": "code",
   "execution_count": null,
   "metadata": {},
   "outputs": [],
   "source": [
    "5. Write a Python program to add 'ing' at the end of a given string (length should be at least 3).If the given string already \n",
    "   ends with 'ing' then add 'ly' instead.If the string length of the given string is less than 3, leave it unchanged.\n",
    "    Data:\n",
    "        'abc'\n",
    "        'string'\n",
    "    Expected Output:\n",
    "        abcing\n",
    "        stringly\n",
    "        \n",
    "        a=input(\"Enter a string: \")\n",
    "        if len (a)>=3:\n",
    "        if a.endswith(\"ing'):\n",
    "            print(a+\"ly\")\n",
    "        else:\n",
    "           print(a+\"ing\")\n",
    "\n",
    "    \n",
    "        \n",
    "        \n",
    "        \n",
    "        "
   ]
  },
  {
   "cell_type": "code",
   "execution_count": null,
   "metadata": {},
   "outputs": [],
   "source": [
    "6. Write a Python program to find the first appearance of the substring 'not' and 'poor' from a given string, if 'not' \n",
    "   follows the 'poor', replace the whole 'not'...'poor' substring with 'good'. Return the resulting string.\n",
    "    Data:\n",
    "        'The lyrics is not that poor!\n",
    "        'The lyrics is good!'\n",
    "    Expected Output:\n",
    "        The lyrics is poor!\n",
    "        The lyrics is poor!\n",
    "        \n",
    "        \n",
    "        \n",
    "        "
   ]
  },
  {
   "cell_type": "code",
   "execution_count": null,
   "metadata": {},
   "outputs": [],
   "source": [
    "7. Write a Python function that takes a list of words and returns the longest word and the length of the longest one.\n",
    "    Data:\n",
    "        Longest word: Exercises\n",
    "    Expected Output:\n",
    "        Length of the longest word: 9\n",
    "            \n",
    "        def find_longest(words):\n",
    "            longest==\"\"\n",
    "        for word in words:\n",
    "            if len(word)>len(longest):\n",
    "               longest=word\n",
    "        else:\n",
    "            Exercises\n",
    "        print(\"longest oord:\", Longest)\n",
    "        print(\"Length of the longest word:\")\n",
    "            \n",
    "            \n",
    "            "
   ]
  },
  {
   "cell_type": "code",
   "execution_count": null,
   "metadata": {},
   "outputs": [],
   "source": [
    "8. Write a Python program to count the occurrences of each word in a given sentence.\n",
    "    Data:\n",
    "        'Read and edit documents attached to emails'\n",
    "    Expected Output:\n",
    "        {'Read': 1, 'and': 1, 'edit': 1, 'documents': 1, 'attached': 1, 'to': 1, 'emails': 1}\n",
    "        \n",
    "        \n",
    "        \n",
    "        "
   ]
  },
  {
   "cell_type": "code",
   "execution_count": null,
   "metadata": {},
   "outputs": [],
   "source": [
    "9. Write a Python function to convert a given string to all uppercase if it contains at least 2 uppercase \n",
    "   characters in the first 4 characters.\n",
    "    Data:\n",
    "        'Python'\n",
    "        'PyThon'\n",
    "    Expected Output:\n",
    "        Python\n",
    "        PYTHON\n",
    "        def convert_upper(s):\n",
    "          count=0\n",
    "        for i in s[:4]:\n",
    "            count+=1\n",
    "        if count>=2:\n",
    "            result=s.upper()\n",
    "        else:\n",
    "            return = (s)\n",
    "        print(result)\n",
    "\n",
    "        \n",
    "        \n",
    "        "
   ]
  },
  {
   "cell_type": "code",
   "execution_count": null,
   "metadata": {},
   "outputs": [],
   "source": [
    "10. Write a Python program to print the following floating numbers upto 2 decimal places.\n",
    "    Data:\n",
    "        x = 3.1415926\n",
    "        y = 12.9999\n",
    "    Expected Output:\n",
    "        Formatted Number: 3.14\n",
    "        Formatted Number: 13.00\n",
    "            \n",
    "            n=[3.1415926,12.9999]\n",
    "              i=0\n",
    "           while i<(\"format num:(num[i]:2f)\")\n",
    "              i+=1\n",
    "\n",
    "\n",
    "\n",
    "\n",
    "           \n",
    "            "
   ]
  },
  {
   "cell_type": "code",
   "execution_count": null,
   "metadata": {},
   "outputs": [],
   "source": [
    "11. Write a Python program to print the following floating numbers upto 2 decimal places with a sign.\n",
    "    Data:\n",
    "        x = 3.1415926 \n",
    "        y = -12.9999\n",
    "    Expected Output:\n",
    "        Formatted Number with sign: +3.14\n",
    "        Formatted Number with sign: -13.00\n",
    "            \n",
    "            \n",
    "            \n",
    "            "
   ]
  },
  {
   "cell_type": "code",
   "execution_count": null,
   "metadata": {},
   "outputs": [],
   "source": [
    "12. Write a Python program to print the following floating numbers with no decimal places.\n",
    "    Data:\n",
    "        x = 3.1415926\n",
    "        y = -12.9999\n",
    "    Expected Output:\n",
    "        Formatted Number with no decimal places: 3\n",
    "        Formatted Number with no decimal places: -13\n",
    "            \n",
    "            x = 3.1415926\n",
    "            y = -12.9999\n",
    "            if is in a(x,float):\n",
    "                print{\"format with sign:(x:2a)\")\n",
    "\n",
    "            if is inb(y,float):\n",
    "                print(\"Format with sign:(x:2b)\")\n",
    "            \n",
    "            "
   ]
  },
  {
   "cell_type": "code",
   "execution_count": null,
   "metadata": {},
   "outputs": [],
   "source": [
    "13. Write a Python program to print the following integers with zeros on the left of specified width.\n",
    "    Data:\n",
    "        x = 3\n",
    "        y = 123\n",
    "    Expected Output:\n",
    "        Formatted Number(left padding, width 2): 03\n",
    "        Formatted Number(left padding, width 6): 000123\n",
    "            \n",
    "            \n",
    "            \n",
    "            "
   ]
  },
  {
   "cell_type": "code",
   "execution_count": null,
   "metadata": {},
   "outputs": [],
   "source": [
    "14. Write a Python program to print the following integers with '*' on the right of specified width.\n",
    "    Data:\n",
    "        x = 3\n",
    "        y = 123\n",
    "    Expected Output:\n",
    "        Formatted Number(right padding, width 2):  3*\n",
    "        Formatted Number(right padding, width 6):  123***\n",
    "            x = 3\n",
    "            y = 123\n",
    "            if len(str(x))<2:\n",
    "                print(\"formatted number (right paddind.width 2):\n",
    "                      format\"str)x_:<2.replace(\"'\",\"*\")\n",
    "            if len(str(y))<6:\n",
    "                printprint(\"formatted number (right paddind.width 6):\n",
    "                      format\"str)x_:<6.replace(\"'\",\"*\")\n",
    "            :\n",
    "                \n",
    "            \n",
    "            \n",
    "            "
   ]
  },
  {
   "cell_type": "code",
   "execution_count": null,
   "metadata": {},
   "outputs": [],
   "source": [
    "15. Write a Python program to display a number with a comma separator.\n",
    "    Data:\n",
    "        x = 3000000\n",
    "        y = 30000000\n",
    "    Expected Output:\n",
    "        Formatted Number with comma separator: 3,000,000\n",
    "        Formatted Number with comma separator: 30,000,000\n",
    "            \n",
    "            \n",
    "             x = 3000000\n",
    "             y = 30000000\n",
    "             if x>0:\n",
    "                 printa\"formatted number with comma:\",format(x,\"'\"))\n",
    "              if y>0:\n",
    "                  printa\"formatted number with comma:\",format(y,\"'\"))\n",
    "              \n",
    "\n",
    "            "
   ]
  },
  {
   "cell_type": "code",
   "execution_count": null,
   "metadata": {},
   "outputs": [],
   "source": [
    "16. Write a Python program to format a number with a percentage.\n",
    "    Data:\n",
    "        x = 0.25\n",
    "        y = -0.25\n",
    "    Expected Output:\n",
    "        Formatted Number with percentage: 25.00%\n",
    "        Formatted Number with percentage: -25.00%\n",
    "        x = 0.25\n",
    "        y = -0.25\n",
    "        a=[x,y] \n",
    "        for num in a:\n",
    "            print(\"format num with %{num:2&%))\n",
    "            \n",
    "            \n",
    "            "
   ]
  },
  {
   "cell_type": "code",
   "execution_count": null,
   "metadata": {},
   "outputs": [],
   "source": [
    "17. Write a Python program to reverse words in a string.\n",
    "    Data:\n",
    "        \"Read and edit documents attached to emails.\"\n",
    "        \"Python Exercises.\"\n",
    "    Expected Output:\n",
    "        emails. to attached documents edit and Read\n",
    "        Exercises. Python\n",
    "        \n",
    "        \n",
    "        \n",
    "        "
   ]
  },
  {
   "cell_type": "code",
   "execution_count": null,
   "metadata": {},
   "outputs": [],
   "source": [
    "18. Write a Python program to strip vowels from a given string.\n",
    "    Data:\n",
    "        Original String:\n",
    "        \"Read and edit documents attached to emails.\"\n",
    "    Expected Output:\n",
    "        After stripping a,e,i,o,u\n",
    "        Rd nd dt dcmnts ttchd t mls.\n",
    "        \n",
    "        \n",
    "        \n",
    "        "
   ]
  },
  {
   "cell_type": "code",
   "execution_count": null,
   "metadata": {},
   "outputs": [],
   "source": [
    "19. Write a Python program to count repeated characters in a string.\n",
    "    Data:\n",
    "        string: 'thequickbrownfoxjumpsoverthelazydog'\n",
    "    Expected Output:\n",
    "        o 4\n",
    "        e 3\n",
    "        t 2\n",
    "        h 2\n",
    "        u 2\n",
    "        r 2\n",
    "        \n",
    "        \n",
    "        string='thequickbrownfoxjumpsoverthelazydog'\n",
    "        count={}\n",
    "        for i in string:\n",
    "            if i in count:\n",
    "                i_count[a]+=1\n",
    "            else:\n",
    "                i_count[a]=1\n",
    "\n",
    "            for i in count:\n",
    "                if i count[a]=1\n",
    "                rint(i,a_count[char])\n",
    "\n",
    "\n",
    "\n",
    "\n",
    "\n",
    "        "
   ]
  },
  {
   "cell_type": "code",
   "execution_count": null,
   "metadata": {},
   "outputs": [],
   "source": [
    "20. Write a Python program to print the square and cube symbol in the area of a rectangle and volume of a cylinder.\n",
    "    Data:\n",
    "        area = 1256.66\n",
    "        volume = 1254.725\n",
    "    Expected Output:\n",
    "        The area of the rectangle is 1256.66cm2\n",
    "        The volume of the cylinder is 1254.725cm3  \n",
    "        area = 1256.66\n",
    "        volume = 1254.725\n",
    "\n",
    "        if area>0:\n",
    "            print(\"The area of triangle cm/a2)\n",
    "            else:\n",
    "                  print(\"Invalid area value\")\n",
    "            if volume>0:\n",
    "                print(\"The volume of length cm/a3}\n",
    "             else:\n",
    "                print(\"Invalid Volume Value\")\n",
    "        \n",
    "        \n",
    "        "
   ]
  }
 ],
 "metadata": {
  "kernelspec": {
   "display_name": "Python 3 (ipykernel)",
   "language": "python",
   "name": "python3"
  },
  "language_info": {
   "codemirror_mode": {
    "name": "ipython",
    "version": 3
   },
   "file_extension": ".py",
   "mimetype": "text/x-python",
   "name": "python",
   "nbconvert_exporter": "python",
   "pygments_lexer": "ipython3",
   "version": "3.13.5"
  }
 },
 "nbformat": 4,
 "nbformat_minor": 4
}
