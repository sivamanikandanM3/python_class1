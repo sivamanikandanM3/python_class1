{
 "cells": [
  {
   "cell_type": "markdown",
   "metadata": {},
   "source": [
    "# For Loop (Simple) - Questions"
   ]
  },
  {
   "cell_type": "code",
   "execution_count": 42,
   "metadata": {},
   "outputs": [
    {
     "name": "stdout",
     "output_type": "stream",
     "text": [
      "India\n",
      "Canada\n",
      "Sweden\n"
     ]
    }
   ],
   "source": [
    "''' 1. Write a Python program to print expected output from the data given below.   \n",
    "    Data:\n",
    "         country = [\"India\", \"Canada\", \"Sweden\"]    \n",
    "    Expected Output:\n",
    "    India\n",
    "    Canada\n",
    "    Sweden ''' \n",
    "    \n",
    "country = [\"India\", \"Canada\", \"Sweden\"]\n",
    "for c in country:\n",
    "    print(c)\n",
    "           "
   ]
  },
  {
   "cell_type": "code",
   "execution_count": 43,
   "metadata": {},
   "outputs": [
    {
     "name": "stdout",
     "output_type": "stream",
     "text": [
      "b\n",
      "a\n",
      "n\n",
      "a\n",
      "n\n",
      "a\n"
     ]
    }
   ],
   "source": [
    "''' 2. Write a Python program to print expected output from the data given below. \n",
    "    Data:\n",
    "         string = \"banana\"\n",
    "    Expected Output: \n",
    "    b\n",
    "    a\n",
    "    n\n",
    "    a\n",
    "    n\n",
    "    a   '''\n",
    "\n",
    "string = \"banana\"\n",
    "for char in string:\n",
    "    print(char)\n",
    "        \n"
   ]
  },
  {
   "cell_type": "code",
   "execution_count": 44,
   "metadata": {},
   "outputs": [
    {
     "name": "stdout",
     "output_type": "stream",
     "text": [
      "India\n",
      "Canada\n"
     ]
    }
   ],
   "source": [
    "''' 3. Write a Python program to print expected output using break statement from the data given below.    \n",
    "    Data:\n",
    "        country = [\"India\", \"Canada\", \"Sweden\"]      \n",
    "    Expected Output: \n",
    "    India\n",
    "    Canada '''\n",
    "country = [\"India\", \"Canada\", \"Sweden\"]\n",
    "\n",
    "for c in country[:2]:\n",
    "    print(c)\n"
   ]
  },
  {
   "cell_type": "code",
   "execution_count": 46,
   "metadata": {},
   "outputs": [
    {
     "name": "stdout",
     "output_type": "stream",
     "text": [
      "India\n",
      "Sweden\n"
     ]
    }
   ],
   "source": [
    "''' 4. Write a Python program to print expected output using continue statement from the data given below.\n",
    "    Data:\n",
    "        country = [\"India\", \"Canada\", \"Sweden\"]\n",
    "    Expected Output: \n",
    "    India\n",
    "    Sweden '''\n",
    "   \n",
    "country = [\"India\", \"Canada\", \"Sweden\"]\n",
    "for c in country:\n",
    "    if c != \"Canada\":\n",
    "        print(c)"
   ]
  },
  {
   "cell_type": "code",
   "execution_count": 57,
   "metadata": {},
   "outputs": [
    {
     "name": "stdout",
     "output_type": "stream",
     "text": [
      "0\n",
      "1\n",
      "2\n",
      "3\n",
      "4\n"
     ]
    }
   ],
   "source": [
    "#5. Write a Python program to having an empty for loop like this, would raise an error without the pass statement.\n",
    "for i in range(5):\n",
    "    print(i)"
   ]
  },
  {
   "cell_type": "code",
   "execution_count": 47,
   "metadata": {},
   "outputs": [
    {
     "name": "stdout",
     "output_type": "stream",
     "text": [
      "0\n",
      "1\n",
      "2\n",
      "3\n",
      "4\n",
      "5\n"
     ]
    }
   ],
   "source": [
    "''' 6. Write a Python program to print expected output using range in for loop.\n",
    "    Expected Output:\n",
    "    0\n",
    "    1\n",
    "    2\n",
    "    3\n",
    "    4\n",
    "    5 '''\n",
    "for i in range(6):\n",
    "    print(i)\n"
   ]
  },
  {
   "cell_type": "code",
   "execution_count": 48,
   "metadata": {},
   "outputs": [
    {
     "name": "stdout",
     "output_type": "stream",
     "text": [
      "2\n",
      "3\n",
      "4\n",
      "5\n"
     ]
    }
   ],
   "source": [
    "''' 7. Write a Python program to print expected output by passing range parameters as (2, 6).\n",
    "    Expected Output:\n",
    "    2\n",
    "    3\n",
    "    4\n",
    "    5 '''\n",
    "for i in range(2,6):\n",
    "    print(i)\n",
    "\n"
   ]
  },
  {
   "cell_type": "code",
   "execution_count": 50,
   "metadata": {},
   "outputs": [
    {
     "name": "stdout",
     "output_type": "stream",
     "text": [
      "2\n",
      "5\n",
      "8\n",
      "11\n",
      "14\n",
      "17\n",
      "20\n",
      "23\n",
      "26\n",
      "29\n"
     ]
    }
   ],
   "source": [
    "'''8. Write a Python program to print expected output, range between 2 to 30 and increment the sequence by 3.\n",
    "    Expected Output:\n",
    "    2\n",
    "    5\n",
    "    8\n",
    "    11\n",
    "    14\n",
    "    17\n",
    "    20\n",
    "    23\n",
    "    26\n",
    "    29 '''\n",
    "for i in range(2, 30, 3):\n",
    "    print(i)\n"
   ]
  },
  {
   "cell_type": "code",
   "execution_count": 51,
   "metadata": {},
   "outputs": [
    {
     "name": "stdout",
     "output_type": "stream",
     "text": [
      "0\n",
      "1\n",
      "2\n",
      "3\n",
      "4\n",
      "5\n",
      "Finally finished!\n"
     ]
    }
   ],
   "source": [
    "''' 9. Write a Python program to print all numbers from 0 to 5, and print a message when the loop has ended.\n",
    "    Expected Output:\n",
    "    0\n",
    "    1\n",
    "    2\n",
    "    3\n",
    "    4\n",
    "    5\n",
    "    Finally finished! '''\n",
    "for i in range(6):\n",
    "    print(i)\n",
    "print(\"Finally finished!\")\n"
   ]
  },
  {
   "cell_type": "code",
   "execution_count": 52,
   "metadata": {},
   "outputs": [
    {
     "ename": "NameError",
     "evalue": "name 'adjective' is not defined",
     "output_type": "error",
     "traceback": [
      "\u001b[1;31m---------------------------------------------------------------------------\u001b[0m",
      "\u001b[1;31mNameError\u001b[0m                                 Traceback (most recent call last)",
      "Cell \u001b[1;32mIn[52], line 17\u001b[0m\n\u001b[0;32m     15\u001b[0m adj\u001b[38;5;241m=\u001b[39m [\u001b[38;5;124m\"\u001b[39m\u001b[38;5;124mred\u001b[39m\u001b[38;5;124m\"\u001b[39m, \u001b[38;5;124m\"\u001b[39m\u001b[38;5;124mbig\u001b[39m\u001b[38;5;124m\"\u001b[39m, \u001b[38;5;124m\"\u001b[39m\u001b[38;5;124mtasty\u001b[39m\u001b[38;5;124m\"\u001b[39m]\n\u001b[0;32m     16\u001b[0m fruits \u001b[38;5;241m=\u001b[39m [\u001b[38;5;124m\"\u001b[39m\u001b[38;5;124mapple\u001b[39m\u001b[38;5;124m\"\u001b[39m, \u001b[38;5;124m\"\u001b[39m\u001b[38;5;124mbanana\u001b[39m\u001b[38;5;124m\"\u001b[39m, \u001b[38;5;124m\"\u001b[39m\u001b[38;5;124mcherry\u001b[39m\u001b[38;5;124m\"\u001b[39m]\n\u001b[1;32m---> 17\u001b[0m \u001b[38;5;28;01mfor\u001b[39;00m adj \u001b[38;5;129;01min\u001b[39;00m adjective:\n\u001b[0;32m     18\u001b[0m     \u001b[38;5;28;01mfor\u001b[39;00m fruit \u001b[38;5;129;01min\u001b[39;00m fruits:\n\u001b[0;32m     19\u001b[0m         \u001b[38;5;28mprint\u001b[39m(adj,fruit)\n",
      "\u001b[1;31mNameError\u001b[0m: name 'adjective' is not defined"
     ]
    }
   ],
   "source": [
    "''' 10. Write a Python program to print each adjective for every fruits using nested for loop from the data given below.\n",
    "    Data:\n",
    "        adjective = [\"red\", \"big\", \"tasty\"]\n",
    "        fruits = [\"apple\", \"banana\", \"cherry\"]\n",
    "    Expected Output:\n",
    "        red apple\n",
    "        red banana\n",
    "        red cherry\n",
    "        big apple\n",
    "        big banana\n",
    "        big cherry\n",
    "        tasty apple\n",
    "        tasty banana\n",
    "        tasty cherry '''\n",
    "adj= [\"red\", \"big\", \"tasty\"]\n",
    "fruits = [\"apple\", \"banana\", \"cherry\"]\n",
    "for adj in adjective:\n",
    "    for fruit in fruits:\n",
    "        print(adj,fruit)\n",
    "        "
   ]
  },
  {
   "cell_type": "code",
   "execution_count": 53,
   "metadata": {},
   "outputs": [
    {
     "ename": "IndentationError",
     "evalue": "unexpected indent (3228962882.py, line 8)",
     "output_type": "error",
     "traceback": [
      "\u001b[1;36m  Cell \u001b[1;32mIn[53], line 8\u001b[1;36m\u001b[0m\n\u001b[1;33m    print(result)\u001b[0m\n\u001b[1;37m    ^\u001b[0m\n\u001b[1;31mIndentationError\u001b[0m\u001b[1;31m:\u001b[0m unexpected indent\n"
     ]
    }
   ],
   "source": [
    "''' 11. Write a Python program to convert list of tuples into dictionary using setdefault() method.\n",
    "    Data:\n",
    "        l = [(\"x\", 1), (\"x\", 2), (\"x\", 3), (\"y\", 1), (\"y\", 2), (\"z\", 1)]\n",
    "    Expected Output:\n",
    "        {'x': [1, 2, 3], 'y': [1, 2], 'z': [1]} '''\n",
    "for key,value in 1:\n",
    "    result.setdefault(key,[]).append(value)\n",
    "     print(result)\n",
    "    \n"
   ]
  },
  {
   "cell_type": "code",
   "execution_count": null,
   "metadata": {},
   "outputs": [],
   "source": [
    "''' 12. Write a Python program to print the count of no. of elements in a list until an element in a list is a tuple using isinstance() method.\n",
    "    Data:\n",
    "        x = [10,20,30,(10,20),40]\n",
    "    Expected Output: 3 '''\n",
    "\n",
    " for item in x:\n",
    "        if type(item) == tuple:\n",
    "            break\n",
    "        count+=1\n",
    "    print(count)"
   ]
  },
  {
   "cell_type": "code",
   "execution_count": null,
   "metadata": {},
   "outputs": [],
   "source": [
    "''' 13. Write a Python program to access the index of elements in a list. \n",
    "    Data:\n",
    "        x = [5, 15, 35, 8, 98]\n",
    "    Expected Output:\n",
    "        0 5\n",
    "        1 15\n",
    "        2 35\n",
    "        3 8\n",
    "        4 98 '''\n",
    "   for index in range(len(x)):\n",
    "       print(index, x[index])"
   ]
  },
  {
   "cell_type": "code",
   "execution_count": null,
   "metadata": {},
   "outputs": [],
   "source": [
    "''' 14. Write a Python program to create multiple lists.\n",
    "    Expected output:\n",
    "        {'1': [], '2': [], '3': [], '4': [], '5': [], '6': [], '7': [], '8': [], '9': [], '10': []} '''\n",
    "\n",
    "result={]\n",
    "for i in range(1,11):\n",
    "   result [str(i)] =[]\n",
    "print(result)\n"
   ]
  },
  {
   "cell_type": "code",
   "execution_count": 63,
   "metadata": {},
   "outputs": [
    {
     "name": "stdout",
     "output_type": "stream",
     "text": [
      "[{}, {}, {}, {}, {}]\n"
     ]
    }
   ],
   "source": [
    "''' 15. Write a Python program to create a list of empty dictionaries.\n",
    "    Data:\n",
    "        n = 5\n",
    "    Expected Output:\n",
    "        [{}, {}, {}, {}, {}] '''\n",
    "        \n",
    "n = 5\n",
    "result = [{} for _ in range(n)]\n",
    "print(result)\n"
   ]
  },
  {
   "cell_type": "code",
   "execution_count": 61,
   "metadata": {},
   "outputs": [
    {
     "name": "stdout",
     "output_type": "stream",
     "text": [
      "1 boss\n",
      "2 sai\n",
      "3 bala\n"
     ]
    }
   ],
   "source": [
    "''' 16. Write a Python program to iterate over two lists simultaneously.\n",
    "    Data:\n",
    "        x = [1, 2, 3]\n",
    "        name = ['boss', 'sai', 'bala']\n",
    "    Expected Output:\n",
    "        1 boss\n",
    "        2 sai\n",
    "        3 bala '''\n",
    "        \n",
    "x = [1, 2, 3]\n",
    "name = ['boss', 'sai', 'bala']\n",
    "for num, n in zip(x, name):\n",
    "    print(num, n)"
   ]
  },
  {
   "cell_type": "code",
   "execution_count": 59,
   "metadata": {},
   "outputs": [
    {
     "name": "stdout",
     "output_type": "stream",
     "text": [
      "boss\n",
      "sai\n",
      "bala\n"
     ]
    }
   ],
   "source": [
    "''' 17. Write a Python program print all elements of the list using for loop and range().\n",
    "    Data:\n",
    "        name = ['boss', 'sai', 'bala']\n",
    "    Expected Output:\n",
    "        boss\n",
    "        sai\n",
    "        bala '''\n",
    "\n",
    "name = ['boss', 'sai', 'bala']\n",
    "\n",
    "for n in name:\n",
    "    print(n)"
   ]
  },
  {
   "cell_type": "code",
   "execution_count": 1,
   "metadata": {},
   "outputs": [
    {
     "name": "stdout",
     "output_type": "stream",
     "text": [
      "12345"
     ]
    }
   ],
   "source": [
    "# 18. Write a Python program to print without newline or space.\n",
    "for i in range(1,6):\n",
    "    print(i,end=\"\")\n"
   ]
  },
  {
   "cell_type": "code",
   "execution_count": 60,
   "metadata": {},
   "outputs": [
    {
     "ename": "IndentationError",
     "evalue": "unexpected indent (635132646.py, line 12)",
     "output_type": "error",
     "traceback": [
      "\u001b[1;36m  Cell \u001b[1;32mIn[60], line 12\u001b[1;36m\u001b[0m\n\u001b[1;33m    for i, name in ennumerate(x, start=1):\u001b[0m\n\u001b[1;37m    ^\u001b[0m\n\u001b[1;31mIndentationError\u001b[0m\u001b[1;31m:\u001b[0m unexpected indent\n"
     ]
    }
   ],
   "source": [
    "''' 19. Write a Python program to print expected output using enumerate() from the data given below.\n",
    "    Data:\n",
    "        x = [\"suresh\", \"boss\", \"siva\", \"bala\", \"sai\", \"balu\", \"karthi\"] \n",
    "    Expected Output:\n",
    "        President 1: suresh\n",
    "        President 2: boss\n",
    "        President 3: siva\n",
    "        President 4: bala\n",
    "        President 5: sai\n",
    "        President 6: balu\n",
    "        President 7: karthi '''\n",
    "   for i, name in ennumerate(x, start=1):\n",
    "       print(f\"President){i}:{name}\")"
   ]
  },
  {
   "cell_type": "code",
   "execution_count": 58,
   "metadata": {},
   "outputs": [
    {
     "ename": "IndentationError",
     "evalue": "unexpected indent (1596575182.py, line 10)",
     "output_type": "error",
     "traceback": [
      "\u001b[1;36m  Cell \u001b[1;32mIn[58], line 10\u001b[1;36m\u001b[0m\n\u001b[1;33m    for i,val in ennumerate(name):\u001b[0m\n\u001b[1;37m    ^\u001b[0m\n\u001b[1;31mIndentationError\u001b[0m\u001b[1;31m:\u001b[0m unexpected indent\n"
     ]
    }
   ],
   "source": [
    "''' 20. Write a Python program to print expected output using enumerate() from the data given below.\n",
    "    Data:\n",
    "        name = [\"suresh\", \"boss\", \"siva\", \"bala\"]\n",
    "        ratios = [0.2, 0.3, 0.1, 0.4]\n",
    "    Expected Output:\n",
    "        20.0% suresh\n",
    "        30.0% boss\n",
    "        50.0% siva\n",
    "        40.0% bala '''\n",
    "    for i,val in ennumerate(name):\n",
    "           %=ratios[i]*100\n",
    "           prnt(f\"{percentage:.1f}%{val}\")"
   ]
  },
  {
   "cell_type": "code",
   "execution_count": null,
   "metadata": {},
   "outputs": [],
   "source": []
  }
 ],
 "metadata": {
  "kernelspec": {
   "display_name": "Python 3 (ipykernel)",
   "language": "python",
   "name": "python3"
  },
  "language_info": {
   "codemirror_mode": {
    "name": "ipython",
    "version": 3
   },
   "file_extension": ".py",
   "mimetype": "text/x-python",
   "name": "python",
   "nbconvert_exporter": "python",
   "pygments_lexer": "ipython3",
   "version": "3.13.5"
  }
 },
 "nbformat": 4,
 "nbformat_minor": 4
}
