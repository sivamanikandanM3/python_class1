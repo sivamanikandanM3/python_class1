{
 "cells": [
  {
   "cell_type": "markdown",
   "metadata": {},
   "source": [
    "# String Simple Questions"
   ]
  },
  {
   "cell_type": "code",
   "execution_count": 21,
   "metadata": {},
   "outputs": [
    {
     "ename": "SyntaxError",
     "evalue": "invalid syntax (1969942601.py, line 1)",
     "output_type": "error",
     "traceback": [
      "\u001b[1;36m  Cell \u001b[1;32mIn[21], line 1\u001b[1;36m\u001b[0m\n\u001b[1;33m    1. Write a Python program to calculate the length of a given string.\u001b[0m\n\u001b[1;37m       ^\u001b[0m\n\u001b[1;31mSyntaxError\u001b[0m\u001b[1;31m:\u001b[0m invalid syntax\n"
     ]
    }
   ],
   "source": [
    "1. Write a Python program to calculate the length of a given string.\n",
    "    Data:\n",
    "        \"Baskar\"\n",
    "    Expected Output:\n",
    "        6\n",
    "        \n",
    "        data=\"Baskar\"\n",
    "        print(len(data))\n",
    "        \n",
    "        "
   ]
  },
  {
   "cell_type": "code",
   "execution_count": null,
   "metadata": {},
   "outputs": [],
   "source": [
    "2. Write a Python program to remove the character of the nth index from a given string. \n",
    "    Data:\n",
    "        \"Python\"\n",
    "    Expected Output:\n",
    "        ython\n",
    "        Pyton\n",
    "        Pytho\n",
    "    a=\"Python\"\n",
    "    b=0\n",
    "    print(a[:b] +a[b=1:])\n",
    "    print(a)\n",
    "    print(a[:-1])\n",
    "\n",
    "    \n",
    "    \n",
    "    "
   ]
  },
  {
   "cell_type": "code",
   "execution_count": null,
   "metadata": {},
   "outputs": [],
   "source": [
    "3. Write a Python program to interchange the first and last character of a given string.\n",
    "    Data:\n",
    "        'abcd'\n",
    "        '12345'\n",
    "    Expected Output:\n",
    "        dbca\n",
    "        52341\n",
    "\n",
    "a='abcd'\n",
    "b='12345'\n",
    "print(a[-1]=a[1:-1]=a[0])\n",
    "print(b[-1]=b[1:-1]+b[0])\n",
    "\n",
    "        \n",
    "        \n",
    "        \n",
    "        "
   ]
  },
  {
   "cell_type": "code",
   "execution_count": null,
   "metadata": {},
   "outputs": [],
   "source": [
    "4. Write a Python program to remove the values of the odd index from a given string.\n",
    "    Data:\n",
    "        'abcdef'\n",
    "        'python'\n",
    "    Expected Output:\n",
    "        ace\n",
    "        pto\n",
    "        a=\"abcdef\"\n",
    "        b=\"python\"\n",
    "        print(a[:2])\n",
    "        print(a[:2])\n",
    "       \n",
    "        \n",
    "        \n",
    "        "
   ]
  },
  {
   "cell_type": "code",
   "execution_count": null,
   "metadata": {},
   "outputs": [],
   "source": [
    "5. Write a Python program to get input from the user and print the input back in uppercase.\n",
    "    Data:\n",
    "        Whats your favourite language: Tamil\n",
    "    Expected Output:\n",
    "        My favourite language is  TAMIL\n",
    "        My favourite language is  tamil\n",
    "        \n",
    "a=input()\n",
    "print(\"My favorite language is\", a.upper())\n",
    "print(\"My favourite language is\", a)\n",
    "        \n",
    "        "
   ]
  },
  {
   "cell_type": "code",
   "execution_count": null,
   "metadata": {},
   "outputs": [],
   "source": [
    "6. Write a Python program that accepts a comma separated sequence of words as input and print only the unique strings in sorted.\n",
    "    Data:\n",
    "        Words : red, white, black, red, green, black\n",
    "    Expected Output:\n",
    "        black, green, red, white,red\n",
    "        \n",
    "        "
   ]
  },
  {
   "cell_type": "code",
   "execution_count": null,
   "metadata": {},
   "outputs": [],
   "source": [
    "7. Write a Python function to create the HTML string with tags around the string.\n",
    "    Data:\n",
    "        ('i', 'Python')\n",
    "        ('b', 'Python Tutorial')\n",
    "    Expected Output:\n",
    "        <i>Python</i>\n",
    "        <b>Python Tutorial </b>\n",
    "        \n",
    "        \n",
    "        \n",
    "        "
   ]
  },
  {
   "cell_type": "code",
   "execution_count": null,
   "metadata": {},
   "outputs": [],
   "source": [
    "8. Write a Python function to insert the second string in the middle of a first string.\n",
    "    Data:\n",
    "        ('[[]]', 'Python')\n",
    "        ('{{}}', 'PHP')\n",
    "    Expected Output:\n",
    "        [[Python]]\n",
    "        {{PHP}}\n",
    "        \n",
    "        \n",
    "        \n",
    "        "
   ]
  },
  {
   "cell_type": "code",
   "execution_count": 8,
   "metadata": {},
   "outputs": [
    {
     "ename": "SyntaxError",
     "evalue": "invalid syntax (3564985514.py, line 1)",
     "output_type": "error",
     "traceback": [
      "\u001b[1;36m  Cell \u001b[1;32mIn[8], line 1\u001b[1;36m\u001b[0m\n\u001b[1;33m    9. Write a Python function to get a string made of 4 copies of the last two characters of a specified string\u001b[0m\n\u001b[1;37m       ^\u001b[0m\n\u001b[1;31mSyntaxError\u001b[0m\u001b[1;31m:\u001b[0m invalid syntax\n"
     ]
    }
   ],
   "source": [
    "9. Write a Python function to get a string made of 4 copies of the last two characters of a specified string \n",
    "    (length must be at least 2).\n",
    "    Data:\n",
    "        'Python'\n",
    "    Expected Output:\n",
    "        onononon\n",
    "        \n",
    "        \n",
    "        print(\"Python\"[-2:]* 4)\n",
    "        "
   ]
  },
  {
   "cell_type": "code",
   "execution_count": null,
   "metadata": {},
   "outputs": [],
   "source": [
    "10. Write a Python function to get a string made of its first three characters of a specified string. \n",
    "    If the length of the string is less than 3 then return the original string.\n",
    "    Data:\n",
    "        'ipy'\n",
    "        'python'\n",
    "    Expected Output:\n",
    "        ipy\n",
    "        pyt\n",
    "        \n",
    "       a= 'ipy'  \n",
    "       b=\"\"\n",
    "      if len(a)<3:\n",
    "          resilt=a\n",
    "      else:\n",
    "          for i in range(3):\n",
    "              b+=a[i]\n",
    "        print(b) \n",
    "\n",
    "        \n",
    "        "
   ]
  },
  {
   "cell_type": "code",
   "execution_count": null,
   "metadata": {},
   "outputs": [],
   "source": [
    "11. Write a Python function to reverse a string if its length is a multiple of 4.\n",
    "    Data:\n",
    "        'abcd'\n",
    "        'python'\n",
    "    Expected Output:\n",
    "        dcba\n",
    "        python\n",
    "        \n",
    "        \n",
    "        a='abcd'\n",
    "        b=\"\"\n",
    "        if len(a)%4 ==0:\n",
    "            for i in a:\n",
    "                a=i+b\n",
    "            print(B)\n",
    "        else:\n",
    "            print(a)\n",
    "    \n",
    "        "
   ]
  },
  {
   "cell_type": "code",
   "execution_count": null,
   "metadata": {},
   "outputs": [],
   "source": [
    "12. Write a Python program to get the last part of a string before a specified character.\n",
    "    Data:\n",
    "        str1 = 'https://www.aidinasaur.com/python-exercises/string'\n",
    "    Expected Output:\n",
    "        https://www.aidinasaur.com/python-exercises\n",
    "        https://www.aidinasaur.com/python\n",
    "            \n",
    "            \n",
    "            \n",
    "            "
   ]
  },
  {
   "cell_type": "code",
   "execution_count": null,
   "metadata": {},
   "outputs": [],
   "source": [
    "13. Write a Python program to sort a string lexicographically.\n",
    "    Data:\n",
    "        aidinasaur\n",
    "    Expected Output: \n",
    "        ['a', 'a', 'a', 'd', 'i', 'i', 'n', 'r', 's', 'u']\n",
    "        a=\"aidinasaur\"\n",
    "        result=sorted(data)\n",
    "        print(result)\n",
    "        \n",
    "    \n",
    "    "
   ]
  },
  {
   "cell_type": "code",
   "execution_count": 7,
   "metadata": {},
   "outputs": [
    {
     "ename": "SyntaxError",
     "evalue": "invalid syntax (3235176459.py, line 1)",
     "output_type": "error",
     "traceback": [
      "\u001b[1;36m  Cell \u001b[1;32mIn[7], line 1\u001b[1;36m\u001b[0m\n\u001b[1;33m    14. Write a Python program to remove a newline in Python.\u001b[0m\n\u001b[1;37m        ^\u001b[0m\n\u001b[1;31mSyntaxError\u001b[0m\u001b[1;31m:\u001b[0m invalid syntax\n"
     ]
    }
   ],
   "source": [
    "14. Write a Python program to remove a newline in Python.\n",
    "    Data:\n",
    "        'Python Exercises\\n'\n",
    "    Expected Output: \n",
    "        Python Exercises\n",
    "\n",
    "        Python Exercises\n",
    "        \n",
    "        a='Python Exercises\\n'\n",
    "         b=b.strip().replace(\"Exercise s\", \"Exercises\")\n",
    "        print(a)\n",
    "        \n",
    "        "
   ]
  },
  {
   "cell_type": "code",
   "execution_count": 6,
   "metadata": {},
   "outputs": [
    {
     "ename": "SyntaxError",
     "evalue": "invalid syntax (884645402.py, line 1)",
     "output_type": "error",
     "traceback": [
      "\u001b[1;36m  Cell \u001b[1;32mIn[6], line 1\u001b[1;36m\u001b[0m\n\u001b[1;33m    15. Write a Python program to check whether a string starts with specified character.\u001b[0m\n\u001b[1;37m        ^\u001b[0m\n\u001b[1;31mSyntaxError\u001b[0m\u001b[1;31m:\u001b[0m invalid syntax\n"
     ]
    }
   ],
   "source": [
    "15. Write a Python program to check whether a string starts with specified character.\n",
    "    Data:\n",
    "        aidinasaur.com\n",
    "    Expected Output:\n",
    "        True\n",
    "        \n",
    "        a=\"aidinasaur.com\"\n",
    "        if a.endswith(\"m\"):\n",
    "            print(\"True\")\n",
    "        else:\n",
    "            print(\"false\")\n",
    "\n",
    "        \n",
    "        "
   ]
  },
  {
   "cell_type": "code",
   "execution_count": null,
   "metadata": {},
   "outputs": [],
   "source": [
    "16. Write a Python program to count the number of occurrences of a substring in a string.\n",
    "    Data:\n",
    "        \"Word to publish Word docs as web pages\"\n",
    "        count = \"word\"\n",
    "    Expected Output:\n",
    "        2\n",
    "        \n",
    "        a=\"Word to publish Word docs as web pages\"\n",
    "        b=word\"\n",
    "        count=0\n",
    "        for c in a.split():\n",
    "            if  clower() ==b:\n",
    "                count== 1\n",
    "            print\n",
    "\n",
    "        \n",
    "        "
   ]
  },
  {
   "cell_type": "code",
   "execution_count": null,
   "metadata": {},
   "outputs": [],
   "source": [
    "17. Write a Python program to reverse a string.\n",
    "    Data:\n",
    "        \"abcdef\"\n",
    "        \"Python Exercises.\"\n",
    "    Expected Output:\n",
    "        fedcba\n",
    "        .sesicrexE nohtyP\n",
    "        \n",
    "        \n",
    "        \n",
    "        "
   ]
  },
  {
   "cell_type": "code",
   "execution_count": 1,
   "metadata": {},
   "outputs": [
    {
     "ename": "SyntaxError",
     "evalue": "invalid syntax (3439384366.py, line 1)",
     "output_type": "error",
     "traceback": [
      "\u001b[1;36m  Cell \u001b[1;32mIn[1], line 1\u001b[1;36m\u001b[0m\n\u001b[1;33m    18. Write a Python program to lowercase first n characters in a string.\u001b[0m\n\u001b[1;37m        ^\u001b[0m\n\u001b[1;31mSyntaxError\u001b[0m\u001b[1;31m:\u001b[0m invalid syntax\n"
     ]
    }
   ],
   "source": [
    "18. Write a Python program to lowercase first n characters in a string.\n",
    "    Data:\n",
    "        \"AIDINASAUR.COM\"\n",
    "    Expected Output:  \n",
    "        aidiNASAUR.COM\n",
    "        a= \"AIDINASAUR.COM\"\n",
    "        print(\"AIDINASAUR.COM\"[:4].lower()+\"AIDINASAUR.COM\"[4:])\n",
    "        \n",
    "        "
   ]
  },
  {
   "cell_type": "code",
   "execution_count": null,
   "metadata": {},
   "outputs": [],
   "source": [
    "19. Write a Python program to swap comma and dot in a string.\n",
    "    Data:\n",
    "        \"32.054,23\"\n",
    "    Expected Output:\n",
    "        \"32,054.23\"\n",
    "        \n",
    "        a= \"32.054,23\"\n",
    "        b= \"\"\n",
    "    for c in a:\n",
    "        if c =='.':\n",
    "            b+='.'\n",
    "        elif b==',':\n",
    "            b+='.'\n",
    "        else:\n",
    "            b+= c\n",
    "    print(b)\n",
    "            \n",
    "        \n",
    "        \n",
    "        \n",
    "        "
   ]
  },
  {
   "cell_type": "code",
   "execution_count": null,
   "metadata": {},
   "outputs": [],
   "source": [
    "20. Write a Python program to count and display the vowels of a given text.\n",
    "    Data:\n",
    "        \"AIDINASAUR.COM\"\n",
    "    Expected Output:\n",
    "        7\n",
    "        ['A', 'I', 'I', 'A', 'A', 'U', 'O']\n",
    "        \n",
    "        \n",
    "        text=\"AIDINASAUR.COM\"\n",
    "        vowels=\"AEIOU\"\n",
    "        list=[]\n",
    "        for  c in test:\n",
    "             if c in vowels:\n",
    "                  list.append(c)\n",
    "            print(list)\n",
    "             \n",
    "        \n",
    "        "
   ]
  }
 ],
 "metadata": {
  "kernelspec": {
   "display_name": "Python 3 (ipykernel)",
   "language": "python",
   "name": "python3"
  },
  "language_info": {
   "codemirror_mode": {
    "name": "ipython",
    "version": 3
   },
   "file_extension": ".py",
   "mimetype": "text/x-python",
   "name": "python",
   "nbconvert_exporter": "python",
   "pygments_lexer": "ipython3",
   "version": "3.13.5"
  }
 },
 "nbformat": 4,
 "nbformat_minor": 4
}
